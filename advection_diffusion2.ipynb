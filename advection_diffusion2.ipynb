{
  "nbformat": 4,
  "nbformat_minor": 0,
  "metadata": {
    "colab": {
      "name": "advection-diffusion2.ipynb",
      "provenance": [],
      "collapsed_sections": [],
      "mount_file_id": "1Av0dXro2paQBmtpQvAh0tzAUUfp6g1Nk",
      "authorship_tag": "ABX9TyOYxkvt/n2I4ZLiC6f+42RS",
      "include_colab_link": true
    },
    "kernelspec": {
      "display_name": "Python 3",
      "name": "python3"
    },
    "language_info": {
      "name": "python"
    }
  },
  "cells": [
    {
      "cell_type": "markdown",
      "metadata": {
        "id": "view-in-github",
        "colab_type": "text"
      },
      "source": [
        "<a href=\"https://colab.research.google.com/github/mizuki-yamada/mizuki.github.io/blob/master/advection_diffusion2.ipynb\" target=\"_parent\"><img src=\"https://colab.research.google.com/assets/colab-badge.svg\" alt=\"Open In Colab\"/></a>"
      ]
    },
    {
      "cell_type": "code",
      "metadata": {
        "id": "8K3o017lv0Rx"
      },
      "source": [
        "import numpy as np\n",
        "import pandas as pd\n",
        "import matplotlib.pyplot as plt\n",
        "import csv\n",
        "import contextlib\n",
        "import time"
      ],
      "execution_count": null,
      "outputs": []
    },
    {
      "cell_type": "code",
      "metadata": {
        "id": "ac3tt-49wQgS"
      },
      "source": [
        "#初期条件\n",
        "T_init=0.0\n",
        "\n",
        "L=40.0\n",
        "U=1.0\n",
        "\n",
        "delta_x=0.1\n",
        "delta_t=0.0001"
      ],
      "execution_count": null,
      "outputs": []
    },
    {
      "cell_type": "code",
      "metadata": {
        "colab": {
          "base_uri": "https://localhost:8080/"
        },
        "id": "lXbPNmnvrpyr",
        "outputId": "612fac3a-8b8b-40e9-83dc-474aa94fd292"
      },
      "source": [
        "#Tを変える\n",
        "T_max=np.arange(1,10.1,1)\n",
        "print(T_max)"
      ],
      "execution_count": null,
      "outputs": [
        {
          "output_type": "stream",
          "text": [
            "[ 1.  2.  3.  4.  5.  6.  7.  8.  9. 10.]\n"
          ],
          "name": "stdout"
        }
      ]
    },
    {
      "cell_type": "code",
      "metadata": {
        "colab": {
          "base_uri": "https://localhost:8080/"
        },
        "id": "jnWuOgKpJFaL",
        "outputId": "21531ee0-48ea-47b6-9e9e-c21f2ea6fe72"
      },
      "source": [
        "#時間計測\n",
        "start=time.time()\n",
        "\n",
        "#xの範囲\n",
        "x=np.arange(0.0,L,delta_x)\n",
        "#xの繰り返し回数\n",
        "N_step=int(L/delta_x)\n",
        "\n",
        "#温度分布T\n",
        "t_before3=[0.0]*N_step\n",
        "\n",
        "#Uを変える\n",
        "U=np.arange(1.0,50.1,0.1)\n",
        "\n",
        "#係数計算\n",
        "Pe = 0.5\n",
        "c1=delta_t/(Pe*delta_x**2)\n",
        "c2=(U*delta_t)/delta_x\n",
        "\n",
        "#Tの変化\n",
        "t_updated3=t_before3.copy()\n",
        "t_updated3[0]=1.0\n",
        "t_updated3[-1]=0.0\n",
        "\n",
        "#時間\n",
        "t3=0.0\n",
        "\n",
        "each_U=[]\n",
        "\n",
        "for j in range(len(U)):\n",
        "\n",
        "  t_before3=[0.0]*N_step\n",
        "  t_updated3=t_before3.copy()\n",
        "  t_updated3[0]=1.0\n",
        "  t_updated3[-1]=0.0\n",
        "\n",
        "  while(np.max(np.abs(np.array(t_updated3)-np.array(t_before3)>=0.0001))):\n",
        "    t3+=delta_t\n",
        "    t_before3=t_updated3.copy()\n",
        "    t_updated3[0]=1.0\n",
        "    t_updated3[-1]=0.0\n",
        "\n",
        "    for i in range(1,N_step-1):\n",
        "    #時刻tにおける各地点の温度を計算\n",
        "      t_updated3[i]=(1-2*c1-c2[j])*t_before3[i]+(c1+c2[j])*t_before3[i-1]+c1*t_before3[i+1]\n",
        "  \n",
        "  each_U.append(t_updated3)\n",
        "\n",
        "finish=time.time()-start\n",
        "print(finish)"
      ],
      "execution_count": null,
      "outputs": [
        {
          "output_type": "stream",
          "text": [
            "5470.057727575302\n"
          ],
          "name": "stdout"
        }
      ]
    },
    {
      "cell_type": "code",
      "metadata": {
        "id": "taqFOCb4R8sW"
      },
      "source": [
        "all_answer_U=[]\n",
        "for n in range(len(U)):\n",
        "  all_answer_U.append([T_max[0],Pe,U[n],each_U[n][int(N_step/2)-1],each_U[n][int(N_step/4)-1],each_U[n][int(N_step/8)-1]])\n",
        "all_answer_U=pd.DataFrame(all_answer_U)"
      ],
      "execution_count": null,
      "outputs": []
    },
    {
      "cell_type": "code",
      "metadata": {
        "id": "64sDfcFyhbKf"
      },
      "source": [
        ""
      ],
      "execution_count": null,
      "outputs": []
    }
  ]
}