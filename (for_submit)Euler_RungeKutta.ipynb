{
  "nbformat": 4,
  "nbformat_minor": 0,
  "metadata": {
    "colab": {
      "name": "(for_submit)Euler_RungeKutta.ipynb",
      "provenance": [],
      "collapsed_sections": [],
      "mount_file_id": "1Ml4yvgmpbNpjAfavPCVTMWSCKp_aHMxy",
      "authorship_tag": "ABX9TyM7IlkDCJ0j7A72bfggmUBr",
      "include_colab_link": true
    },
    "kernelspec": {
      "name": "python3",
      "display_name": "Python 3"
    },
    "language_info": {
      "name": "python"
    }
  },
  "cells": [
    {
      "cell_type": "markdown",
      "metadata": {
        "id": "view-in-github",
        "colab_type": "text"
      },
      "source": [
        "<a href=\"https://colab.research.google.com/github/mizuki-yamada/mizuki.github.io/blob/master/(for_submit)Euler_RungeKutta.ipynb\" target=\"_parent\"><img src=\"https://colab.research.google.com/assets/colab-badge.svg\" alt=\"Open In Colab\"/></a>"
      ]
    },
    {
      "cell_type": "code",
      "metadata": {
        "id": "uOLLVy-2iVIM"
      },
      "source": [
        "import numpy as np\n",
        "import math\n",
        "import pandas as pd\n",
        "import matplotlib.pyplot as plt"
      ],
      "execution_count": null,
      "outputs": []
    },
    {
      "cell_type": "code",
      "metadata": {
        "id": "oAs7mcigieS8"
      },
      "source": [
        "#微分方程式\n",
        "def function(x,y):\n",
        "  return x+y"
      ],
      "execution_count": null,
      "outputs": []
    },
    {
      "cell_type": "code",
      "metadata": {
        "id": "HXlE8xbtimir"
      },
      "source": [
        "#厳密解\n",
        "def exact_solution(x):\n",
        "  return 2*np.exp(x)-x-1"
      ],
      "execution_count": null,
      "outputs": []
    },
    {
      "cell_type": "code",
      "metadata": {
        "id": "LoCdMSe3i0mY"
      },
      "source": [
        "#1次オイラー法\n",
        "def Euler(x,y,delta_t):\n",
        "  y+=delta_t*function(x,y)\n",
        "  return y"
      ],
      "execution_count": null,
      "outputs": []
    },
    {
      "cell_type": "code",
      "metadata": {
        "colab": {
          "base_uri": "https://localhost:8080/",
          "height": 333
        },
        "id": "FuXewa4Mj3XZ",
        "outputId": "c0c64685-ae4a-486c-f2fa-fb417bb79b59"
      },
      "source": [
        "#実行\n",
        "N=10\n",
        "init_x=0.0\n",
        "init_y=1.0\n",
        "delta_t=1.0/N\n",
        "\n",
        "Euler_y=[init_y]\n",
        "Exact_y=[init_y]\n",
        "Error=[0]\n",
        "\n",
        "x_range=np.arange(init_x,1.1,delta_t)\n",
        "x=init_x\n",
        "y=init_y\n",
        "\n",
        "for i in range(N):\n",
        "  y=Euler(x,y,delta_t)\n",
        "  Euler_y.append(np.round(y,6))\n",
        "  x+=delta_t\n",
        "  exact_y=exact_solution(x)\n",
        "  Exact_y.append(np.round(exact_y,6))\n",
        "  \n",
        "print(\"--euler--\")\n",
        "print(Euler_y)\n",
        "print(\"--answer--\")\n",
        "print(Exact_y)\n",
        "\n",
        "plt.plot(x_range,Exact_y,label='Exact Solution')\n",
        "plt.plot(x_range,Euler_y,label='Euler')\n",
        "\n",
        "plt.legend(bbox_to_anchor=(0, 1), loc='upper left', borderaxespad=1, fontsize=12)\n",
        "\n",
        "plt.grid(which='major')\n",
        "plt.show()"
      ],
      "execution_count": null,
      "outputs": [
        {
          "output_type": "stream",
          "text": [
            "--euler--\n",
            "[1.0, 1.1, 1.22, 1.362, 1.5282, 1.72102, 1.943122, 2.197434, 2.487178, 2.815895, 3.187485]\n",
            "--answer--\n",
            "[1.0, 1.110342, 1.242806, 1.399718, 1.583649, 1.797443, 2.044238, 2.327505, 2.651082, 3.019206, 3.436564]\n"
          ],
          "name": "stdout"
        },
        {
          "output_type": "display_data",
          "data": {
            "image/png": "[encoded data removed]",
            "text/plain": [
              "<Figure size 432x288 with 1 Axes>"
            ]
          },
          "metadata": {
            "tags": [],
            "needs_background": "light"
          }
        }
      ]
    },
    {
      "cell_type": "code",
      "metadata": {
        "id": "nGnlne7Icy2z"
      },
      "source": [
        "#4次ルンゲクッタ法\n",
        "def Runge_kutta(x,y,delta_t):\n",
        "  \n",
        "  k1=function(x,y)\n",
        "  k2=function(x+delta_t/2,y+k1*delta_t/2)\n",
        "  k3=function(x+delta_t/2,y+k2*delta_t/2)\n",
        "  k4=function(x+delta_t,y+k3*delta_t)\n",
        "\n",
        "  y+=delta_t*(k1+2*k2+2*k3+k4)/6\n",
        "\n",
        "  return y"
      ],
      "execution_count": null,
      "outputs": []
    },
    {
      "cell_type": "code",
      "metadata": {
        "colab": {
          "base_uri": "https://localhost:8080/"
        },
        "id": "5FwmPZrKoUb_",
        "outputId": "67ffb9ea-8afb-43f3-d044-5eb77333b60e"
      },
      "source": [
        "#実行\n",
        "RK_y=[init_y]\n",
        "\n",
        "x=init_x\n",
        "y=init_y\n",
        "\n",
        "for i in range(N):\n",
        "  y=Runge_kutta(x,y,delta_t)\n",
        "  RK_y.append(np.round(y,6))\n",
        "  x+=delta_t\n",
        "\n",
        "print('--Rungekutta--')\n",
        "print(RK_y)"
      ],
      "execution_count": null,
      "outputs": [
        {
          "output_type": "stream",
          "text": [
            "--Rungekutta--\n",
            "[1.0, 1.110342, 1.242805, 1.399717, 1.583648, 1.797441, 2.044236, 2.327503, 2.651079, 3.019203, 3.436559]\n"
          ],
          "name": "stdout"
        }
      ]
    },
    {
      "cell_type": "code",
      "metadata": {
        "colab": {
          "base_uri": "https://localhost:8080/",
          "height": 283
        },
        "id": "Z7ZB8_bqpMwy",
        "outputId": "680a090c-06dc-49e2-c219-46edbefc7891"
      },
      "source": [
        "#プロット\n",
        "plt.plot(x_range,Exact_y,label='Exact Solution')\n",
        "plt.plot(x_range,Euler_y,label='Euler')\n",
        "plt.plot(x_range,RK_y,label='Runge_Kutta')\n",
        "\n",
        "ax=plt.gca()\n",
        "ax.spines['top'].set_color('none')\n",
        "ax.set_xlabel('x',size=14,weight ='light')\n",
        "ax.set_ylabel('y',size=14,weight='light')\n",
        "\n",
        "plt.legend(bbox_to_anchor=(0, 1), loc='upper left', borderaxespad=1, fontsize=12)\n",
        "plt.grid(which='major')\n",
        "plt.show()"
      ],
      "execution_count": null,
      "outputs": [
        {
          "output_type": "display_data",
          "data": {
            "image/png": "[encoded data removed]",
            "text/plain": [
              "<Figure size 432x288 with 1 Axes>"
            ]
          },
          "metadata": {
            "tags": [],
            "needs_background": "light"
          }
        }
      ]
    },
    {
      "cell_type": "code",
      "metadata": {
        "id": "7DWtjsD-3-CW"
      },
      "source": [
        "#x=1.0\n",
        "#分割数\n",
        "N_error=np.arange(4,10**4+1)\n",
        "#刻み幅\n",
        "delta_x=1.0/N_error\n",
        "#delta_x\n",
        "init_x=0.0\n",
        "init_y=1.0\n",
        "\n",
        "x=init_x\n",
        "y=init_y"
      ],
      "execution_count": null,
      "outputs": []
    },
    {
      "cell_type": "code",
      "metadata": {
        "id": "f5SZvpNLCCDP"
      },
      "source": [
        "#オイラー法\n",
        "total_y=[]#delta_xごとの全てのyを入れる\n",
        "\n",
        "for j in range(len(delta_x)):\n",
        "  x=init_x\n",
        "  y=init_y\n",
        "  for i in range(N_error[j]):\n",
        "    y=Euler(x,y,delta_x[j])\n",
        "    x+=delta_x[j]\n",
        "  total_y.append(y)\n",
        "  error_euler1=exact_solution(1.0)-total_y"
      ],
      "execution_count": null,
      "outputs": []
    },
    {
      "cell_type": "code",
      "metadata": {
        "id": "EWB2T8_DP77m"
      },
      "source": [
        "#x=1.0\n",
        "#分割数\n",
        "N_error=np.arange(4,10**4+1)\n",
        "#刻み幅\n",
        "delta_x=1.0/N_error\n",
        "#delta_x\n",
        "init_x=0.0\n",
        "init_y=1.0\n",
        "\n",
        "x=init_x\n",
        "y=init_y\n",
        "\n",
        "#ルンゲクッタ法\n",
        "total_y_RK=[]#delta_xごとの全てのyを入れる\n",
        "\n",
        "for j in range(len(delta_x)):\n",
        "  x=init_x\n",
        "  y=init_y\n",
        "  for i in range(N_error[j]):\n",
        "    y=Runge_kutta(x,y,delta_x[j])\n",
        "    x+=delta_x[j]\n",
        "  total_y_RK.append(y)\n",
        "  error_RK1=exact_solution(1.0)-total_y_RK"
      ],
      "execution_count": null,
      "outputs": []
    },
    {
      "cell_type": "code",
      "metadata": {
        "colab": {
          "base_uri": "https://localhost:8080/",
          "height": 287
        },
        "id": "Qd8NCKYyI7fF",
        "outputId": "608b46ba-2823-4d58-c84a-d4cdcd218b84"
      },
      "source": [
        "#可視化\n",
        "plt.plot(delta_x,error_euler1,label='euler')\n",
        "plt.plot(delta_x,error_RK1,label='RK')\n",
        "\n",
        "ax=plt.gca()\n",
        "ax.spines['top'].set_color('none')\n",
        "\n",
        "#両対数グラフにする\n",
        "ax.set_xscale('log')\n",
        "ax.set_yscale('log')\n",
        "\n",
        "ax.set_xlabel('delta_x',size=14,weight ='light')\n",
        "ax.set_ylabel('error',size=14,weight='light')\n",
        "\n",
        "plt.legend(bbox_to_anchor=(0, 1), loc='upper left', borderaxespad=1, fontsize=12)\n",
        "plt.grid(which='major')\n",
        "plt.show()"
      ],
      "execution_count": null,
      "outputs": [
        {
          "output_type": "display_data",
          "data": {
            "image/png": "[encoded data removed]",
            "text/plain": [
              "<Figure size 432x288 with 1 Axes>"
            ]
          },
          "metadata": {
            "tags": [],
            "needs_background": "light"
          }
        }
      ]
    },
    {
      "cell_type": "code",
      "metadata": {
        "colab": {
          "base_uri": "https://localhost:8080/"
        },
        "id": "XmN7shoU1dEK",
        "outputId": "beb5535c-e1cb-4d43-c34d-8a7dad67ba27"
      },
      "source": [
        "#直線の傾きを求める\n",
        "np.polyfit(np.log(delta_x),np.log(error_euler1),1)"
      ],
      "execution_count": null,
      "outputs": [
        {
          "output_type": "execute_result",
          "data": {
            "text/plain": [
              "array([0.9978491 , 0.98161678])"
            ]
          },
          "metadata": {
            "tags": []
          },
          "execution_count": 14
        }
      ]
    },
    {
      "cell_type": "code",
      "metadata": {
        "id": "1B27xZ1VKtJJ"
      },
      "source": [
        "#x=0.5\n",
        "#分割数\n",
        "N_error=np.arange(4,10**4+1)\n",
        "#刻み幅\n",
        "delta_x=0.5/N_error\n",
        "\n",
        "init_x=0.0\n",
        "init_y=1.0\n",
        "\n",
        "x=init_x\n",
        "y=init_y\n",
        "\n",
        "#オイラー法\n",
        "total_y2=[]#delta_xごとの全てのyを入れる\n",
        "\n",
        "for j in range(len(delta_x)):\n",
        "  x=init_x\n",
        "  y=init_y\n",
        "  for i in range(N_error[j]):\n",
        "    y=Euler(x,y,delta_x[j])\n",
        "    x+=delta_x[j]\n",
        "  total_y2.append(y)\n",
        "  error_euler2=exact_solution(0.5)-total_y2"
      ],
      "execution_count": null,
      "outputs": []
    },
    {
      "cell_type": "code",
      "metadata": {
        "id": "86gGVmAbRpEy"
      },
      "source": [
        "#x=0.5\n",
        "#分割数\n",
        "N_error=np.arange(4,10**4+1)\n",
        "#刻み幅\n",
        "delta_x=0.5/N_error\n",
        "#delta_x\n",
        "init_x=0.0\n",
        "init_y=1.0\n",
        "\n",
        "x=init_x\n",
        "y=init_y\n",
        "\n",
        "#ルンゲクッタ法\n",
        "total_y_RK2=[]#delta_xごとの全てのyを入れる\n",
        "\n",
        "for j in range(len(delta_x)):\n",
        "  x=init_x\n",
        "  y=init_y\n",
        "  for i in range(N_error[j]):\n",
        "    y=Runge_kutta(x,y,delta_x[j])\n",
        "    x+=delta_x[j]\n",
        "  total_y_RK2.append(y)\n",
        "  error_RK2=exact_solution(0.5)-total_y_RK2"
      ],
      "execution_count": null,
      "outputs": []
    },
    {
      "cell_type": "code",
      "metadata": {
        "colab": {
          "base_uri": "https://localhost:8080/",
          "height": 287
        },
        "id": "1U1aJ6krRruI",
        "outputId": "d97496ee-a57e-411b-cc3d-510f36c8d64c"
      },
      "source": [
        "#可視化\n",
        "plt.plot(delta_x,error_euler2,label='euler')\n",
        "plt.plot(delta_x,error_RK2,label='RK')\n",
        "\n",
        "ax=plt.gca()\n",
        "ax.spines['top'].set_color('none')\n",
        "\n",
        "#両対数グラフにする\n",
        "ax.set_xscale('log')\n",
        "ax.set_yscale('log')\n",
        "\n",
        "ax.set_xlabel('delta_x',size=14,weight ='light')\n",
        "ax.set_ylabel('error',size=14,weight='light')\n",
        "\n",
        "plt.legend(bbox_to_anchor=(0, 1), loc='upper left', borderaxespad=1, fontsize=12)\n",
        "plt.grid(which='major')\n",
        "plt.show()"
      ],
      "execution_count": null,
      "outputs": [
        {
          "output_type": "display_data",
          "data": {
            "image/png": "[encoded data removed]",
            "text/plain": [
              "<Figure size 432x288 with 1 Axes>"
            ]
          },
          "metadata": {
            "tags": [],
            "needs_background": "light"
          }
        }
      ]
    },
    {
      "cell_type": "code",
      "metadata": {
        "colab": {
          "base_uri": "https://localhost:8080/"
        },
        "id": "hubBktd-1yas",
        "outputId": "1fe6dbf9-2774-4e1f-cd6d-6b1c367e793b"
      },
      "source": [
        "np.polyfit(np.log(delta_x),np.log(error_euler2),1)"
      ],
      "execution_count": null,
      "outputs": [
        {
          "output_type": "execute_result",
          "data": {
            "text/plain": [
              "array([ 0.9990553 , -0.20187347])"
            ]
          },
          "metadata": {
            "tags": []
          },
          "execution_count": 23
        }
      ]
    },
    {
      "cell_type": "code",
      "metadata": {
        "id": "qwTq2AJEKu2r"
      },
      "source": [
        "#x=0.25\n",
        "#分割数\n",
        "N_error=np.arange(4,10**4+1)\n",
        "#刻み幅\n",
        "delta_x=0.25/N_error\n",
        "#delta_x\n",
        "init_x=0.0\n",
        "init_y=1.0\n",
        "\n",
        "x=init_x\n",
        "y=init_y\n",
        "\n",
        "#オイラー法\n",
        "total_y3=[]#delta_xごとの全てのy\n",
        "\n",
        "for j in range(len(delta_x)):\n",
        "  x=init_x\n",
        "  y=init_y\n",
        "  for i in range(N_error[j]):\n",
        "    y=Euler(x,y,delta_x[j])\n",
        "    x+=delta_x[j]\n",
        "  total_y3.append(y)\n",
        "  error_euler3=exact_solution(0.25)-total_y3"
      ],
      "execution_count": null,
      "outputs": []
    },
    {
      "cell_type": "code",
      "metadata": {
        "id": "NZJjVn0SR3W6"
      },
      "source": [
        "#x=0.25\n",
        "#分割数\n",
        "N_error=np.arange(4,10**4+1)\n",
        "#刻み幅\n",
        "delta_x=0.25/N_error\n",
        "#delta_x\n",
        "init_x=0.0\n",
        "init_y=1.0\n",
        "\n",
        "x=init_x\n",
        "y=init_y\n",
        "\n",
        "#ルンゲクッタ法\n",
        "total_y_RK3=[]#delta_xごとの全てのyを入れる\n",
        "\n",
        "for j in range(len(delta_x)):\n",
        "  x=init_x\n",
        "  y=init_y\n",
        "  for i in range(N_error[j]):\n",
        "    y=Runge_kutta(x,y,delta_x[j])\n",
        "    x+=delta_x[j]\n",
        "  total_y_RK3.append(y)\n",
        "  error_RK3=exact_solution(0.25)-total_y_RK3"
      ],
      "execution_count": null,
      "outputs": []
    },
    {
      "cell_type": "code",
      "metadata": {
        "colab": {
          "base_uri": "https://localhost:8080/",
          "height": 287
        },
        "id": "pfxlb3tiR5a1",
        "outputId": "ef0c48df-9ef9-4370-cef5-7522b7a85310"
      },
      "source": [
        "#可視化\n",
        "plt.plot(delta_x,error_euler3,label='euler')\n",
        "plt.plot(delta_x,error_RK3,label='RK')\n",
        "\n",
        "ax=plt.gca()\n",
        "ax.spines['top'].set_color('none')\n",
        "\n",
        "#両対数グラフにする\n",
        "ax.set_xscale('log')\n",
        "ax.set_yscale('log')\n",
        "\n",
        "ax.set_xlabel('delta_x',size=14,weight ='light')\n",
        "ax.set_ylabel('error',size=14,weight='light')\n",
        "\n",
        "plt.legend(bbox_to_anchor=(0, 1), loc='upper left', borderaxespad=1, fontsize=12)\n",
        "plt.grid(which='major')\n",
        "plt.show()"
      ],
      "execution_count": null,
      "outputs": [
        {
          "output_type": "display_data",
          "data": {
            "image/png": "[encoded data removed]",
            "text/plain": [
              "<Figure size 432x288 with 1 Axes>"
            ]
          },
          "metadata": {
            "tags": [],
            "needs_background": "light"
          }
        }
      ]
    },
    {
      "cell_type": "code",
      "metadata": {
        "colab": {
          "base_uri": "https://localhost:8080/"
        },
        "id": "KDP6ECfSlMFv",
        "outputId": "e08373d6-df28-4246-935e-2d72647d9ae7"
      },
      "source": [
        "np.polyfit(np.log(delta_x[:50]),np.log(error_RK3[:50]),1)"
      ],
      "execution_count": null,
      "outputs": [
        {
          "output_type": "execute_result",
          "data": {
            "text/plain": [
              "array([ 3.98586208, -5.306423  ])"
            ]
          },
          "metadata": {
            "tags": []
          },
          "execution_count": 29
        }
      ]
    },
    {
      "cell_type": "code",
      "metadata": {
        "id": "sgIlEMV_3ErK"
      },
      "source": [
        ""
      ],
      "execution_count": null,
      "outputs": []
    }
  ]
}